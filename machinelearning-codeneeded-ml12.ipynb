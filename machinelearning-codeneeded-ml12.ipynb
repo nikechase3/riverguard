{
 "cells": [
  {
   "cell_type": "code",
   "execution_count": 1,
   "metadata": {},
   "outputs": [
    {
     "name": "stderr",
     "output_type": "stream",
     "text": [
      "2024-07-01 12:01:50.952337: W tensorflow/stream_executor/platform/default/dso_loader.cc:64] Could not load dynamic library 'libcudart.so.11.0'; dlerror: libcudart.so.11.0: cannot open shared object file: No such file or directory\n",
      "2024-07-01 12:01:50.952359: I tensorflow/stream_executor/cuda/cudart_stub.cc:29] Ignore above cudart dlerror if you do not have a GPU set up on your machine.\n",
      "/home/haikalasa/.local/lib/python3.7/site-packages/tensorflow_addons/utils/ensure_tf_install.py:67: UserWarning: Tensorflow Addons supports using Python ops for all Tensorflow versions above or equal to 2.9.0 and strictly below 2.12.0 (nightly versions are not supported). \n",
      " The versions of TensorFlow you are currently using is 2.8.0 and is not supported. \n",
      "Some things might work, some things might not.\n",
      "If you were to encounter a bug, do not file an issue.\n",
      "If you want to make sure you're using a tested and supported configuration, either change the TensorFlow version or the TensorFlow Addons's version. \n",
      "You can find the compatibility matrix in TensorFlow Addon's readme:\n",
      "https://github.com/tensorflow/addons\n",
      "  UserWarning,\n"
     ]
    }
   ],
   "source": [
    "import numpy as np\n",
    "import os\n",
    "\n",
    "from tflite_model_maker.config import QuantizationConfig\n",
    "from tflite_model_maker.config import ExportFormat\n",
    "from tflite_model_maker import model_spec\n",
    "from tflite_model_maker import object_detector\n",
    "\n",
    "import tensorflow as tf\n",
    "from tensorflow import keras\n",
    "assert tf.__version__.startswith('2')\n",
    "\n",
    "tf.get_logger().setLevel('ERROR')\n",
    "from absl import logging\n",
    "logging.set_verbosity(logging.ERROR)\n"
   ]
  },
  {
   "cell_type": "code",
   "execution_count": 2,
   "metadata": {},
   "outputs": [
    {
     "name": "stderr",
     "output_type": "stream",
     "text": [
      "2024-07-01 12:02:19.061975: W tensorflow/stream_executor/platform/default/dso_loader.cc:64] Could not load dynamic library 'libcuda.so.1'; dlerror: libcuda.so.1: cannot open shared object file: No such file or directory\n",
      "2024-07-01 12:02:19.062000: W tensorflow/stream_executor/cuda/cuda_driver.cc:269] failed call to cuInit: UNKNOWN ERROR (303)\n",
      "2024-07-01 12:02:19.062011: I tensorflow/stream_executor/cuda/cuda_diagnostics.cc:156] kernel driver does not appear to be running on this host (cheaperbutnotbetter): /proc/driver/nvidia/version does not exist\n",
      "2024-07-01 12:02:19.065597: I tensorflow/core/platform/cpu_feature_guard.cc:151] This TensorFlow binary is optimized with oneAPI Deep Neural Network Library (oneDNN) to use the following CPU instructions in performance-critical operations:  AVX2 FMA\n",
      "To enable them in other operations, rebuild TensorFlow with the appropriate compiler flags.\n"
     ]
    }
   ],
   "source": [
    "spec = model_spec.get('efficientdet_lite0')\n",
    "spec.config.max_output_size = 2\n",
    "label_map = {1 : 'botol_plastik', 2:'daun', 3: 'kantong_plastik', 4:'sedotan',5:'batang_kayu',6:'kaleng',7:'rumput',8:'plastik_makanan',9:'styrofoam',10:'w'}"
   ]
  },
  {
   "cell_type": "code",
   "execution_count": 16,
   "metadata": {},
   "outputs": [],
   "source": [
    "train_data = object_detector.DataLoader.from_pascal_voc('/home/haikalasa/ex/train', \n",
    "                                                        '/home/haikalasa/ex/train',\n",
    "                                                        label_map=label_map)\n",
    "validation_data = object_detector.DataLoader.from_pascal_voc('/home/haikalasa/ex/validate',\n",
    "                                                             '/home/haikalasa/ex/validate',\n",
    "                                                             label_map=label_map)\n",
    "test_data = object_detector.DataLoader.from_pascal_voc('/home/haikalasa/ex/validate',\n",
    "                                                             '/home/haikalasa/ex/validate',\n",
    "                                                             label_map=label_map)\n",
    "                                                             "
   ]
  },
  {
   "cell_type": "code",
   "execution_count": 4,
   "metadata": {},
   "outputs": [
    {
     "name": "stdout",
     "output_type": "stream",
     "text": [
      "Reading package lists... Done\n",
      "Building dependency tree       \n",
      "Reading state information... Done\n",
      "libportaudio2 is already the newest version (19.6.0-1+deb10u1).\n",
      "0 upgraded, 0 newly installed, 0 to remove and 11 not upgraded.\n"
     ]
    }
   ],
   "source": [
    "!sudo apt -y install libportaudio2\n"
   ]
  },
  {
   "cell_type": "code",
   "execution_count": 11,
   "metadata": {},
   "outputs": [
    {
     "name": "stdout",
     "output_type": "stream",
     "text": [
      "Epoch 1/60\n",
      "6/6 [==============================] - ETA: 0s - det_loss: 1.8721 - cls_loss: 1.2037 - box_loss: 0.0134 - reg_l2_loss: 0.0644 - loss: 1.9366 - learning_rate: 0.0213 - gradient_norm: 0.7324"
     ]
    },
    {
     "name": "stderr",
     "output_type": "stream",
     "text": [
      "2024-07-01 12:19:13.925587: W tensorflow/core/framework/dataset.cc:768] Input of GeneratorDatasetOp::Dataset will not be optimized because the dataset does not implement the AsGraphDefInternal() method needed to apply optimizations.\n"
     ]
    },
    {
     "name": "stdout",
     "output_type": "stream",
     "text": [
      "6/6 [==============================] - 37s 4s/step - det_loss: 1.8651 - cls_loss: 1.2032 - box_loss: 0.0132 - reg_l2_loss: 0.0644 - loss: 1.9296 - learning_rate: 0.0232 - gradient_norm: 0.7334 - val_det_loss: 1.8079 - val_cls_loss: 1.1774 - val_box_loss: 0.0126 - val_reg_l2_loss: 0.0644 - val_loss: 1.8724\n",
      "Epoch 2/60\n",
      "6/6 [==============================] - 17s 3s/step - det_loss: 1.7744 - cls_loss: 1.1748 - box_loss: 0.0120 - reg_l2_loss: 0.0644 - loss: 1.8388 - learning_rate: 0.0399 - gradient_norm: 0.6283 - val_det_loss: 1.7702 - val_cls_loss: 1.1672 - val_box_loss: 0.0121 - val_reg_l2_loss: 0.0644 - val_loss: 1.8346\n",
      "Epoch 3/60\n",
      "6/6 [==============================] - ETA: 0s - det_loss: 1.6766 - cls_loss: 1.1256 - box_loss: 0.0110 - reg_l2_loss: 0.0644 - loss: 1.7410 - learning_rate: 0.0398 - gradient_norm: 0.7592"
     ]
    },
    {
     "name": "stderr",
     "output_type": "stream",
     "text": [
      "2024-07-01 12:19:51.145361: W tensorflow/core/framework/dataset.cc:768] Input of GeneratorDatasetOp::Dataset will not be optimized because the dataset does not implement the AsGraphDefInternal() method needed to apply optimizations.\n"
     ]
    },
    {
     "name": "stdout",
     "output_type": "stream",
     "text": [
      "6/6 [==============================] - 17s 3s/step - det_loss: 1.6660 - cls_loss: 1.1212 - box_loss: 0.0109 - reg_l2_loss: 0.0644 - loss: 1.7304 - learning_rate: 0.0398 - gradient_norm: 0.7977 - val_det_loss: 1.7362 - val_cls_loss: 1.1440 - val_box_loss: 0.0118 - val_reg_l2_loss: 0.0644 - val_loss: 1.8006\n",
      "Epoch 4/60\n",
      "6/6 [==============================] - 17s 3s/step - det_loss: 1.5412 - cls_loss: 1.0234 - box_loss: 0.0104 - reg_l2_loss: 0.0644 - loss: 1.6057 - learning_rate: 0.0397 - gradient_norm: 1.2050 - val_det_loss: 1.9748 - val_cls_loss: 1.3977 - val_box_loss: 0.0115 - val_reg_l2_loss: 0.0644 - val_loss: 2.0392\n",
      "Epoch 5/60\n",
      "6/6 [==============================] - ETA: 0s - det_loss: 1.4082 - cls_loss: 0.9270 - box_loss: 0.0096 - reg_l2_loss: 0.0644 - loss: 1.4726 - learning_rate: 0.0394 - gradient_norm: 1.6181"
     ]
    },
    {
     "name": "stderr",
     "output_type": "stream",
     "text": [
      "2024-07-01 12:20:25.121775: W tensorflow/core/framework/dataset.cc:768] Input of GeneratorDatasetOp::Dataset will not be optimized because the dataset does not implement the AsGraphDefInternal() method needed to apply optimizations.\n"
     ]
    },
    {
     "name": "stdout",
     "output_type": "stream",
     "text": [
      "6/6 [==============================] - 23s 4s/step - det_loss: 1.4028 - cls_loss: 0.9223 - box_loss: 0.0096 - reg_l2_loss: 0.0644 - loss: 1.4673 - learning_rate: 0.0394 - gradient_norm: 1.6257 - val_det_loss: 1.8800 - val_cls_loss: 1.2965 - val_box_loss: 0.0117 - val_reg_l2_loss: 0.0644 - val_loss: 1.9444\n",
      "Epoch 6/60\n",
      "6/6 [==============================] - 17s 3s/step - det_loss: 1.2615 - cls_loss: 0.8226 - box_loss: 0.0088 - reg_l2_loss: 0.0645 - loss: 1.3259 - learning_rate: 0.0392 - gradient_norm: 1.5361 - val_det_loss: 1.9434 - val_cls_loss: 1.3123 - val_box_loss: 0.0126 - val_reg_l2_loss: 0.0645 - val_loss: 2.0078\n",
      "Epoch 7/60\n",
      "6/6 [==============================] - ETA: 0s - det_loss: 1.2108 - cls_loss: 0.7973 - box_loss: 0.0083 - reg_l2_loss: 0.0645 - loss: 1.2753 - learning_rate: 0.0388 - gradient_norm: 1.4357"
     ]
    },
    {
     "name": "stderr",
     "output_type": "stream",
     "text": [
      "2024-07-01 12:21:05.390658: W tensorflow/core/framework/dataset.cc:768] Input of GeneratorDatasetOp::Dataset will not be optimized because the dataset does not implement the AsGraphDefInternal() method needed to apply optimizations.\n"
     ]
    },
    {
     "name": "stdout",
     "output_type": "stream",
     "text": [
      "6/6 [==============================] - 17s 3s/step - det_loss: 1.2137 - cls_loss: 0.7985 - box_loss: 0.0083 - reg_l2_loss: 0.0645 - loss: 1.2781 - learning_rate: 0.0388 - gradient_norm: 1.4731 - val_det_loss: 1.9598 - val_cls_loss: 1.2940 - val_box_loss: 0.0133 - val_reg_l2_loss: 0.0645 - val_loss: 2.0243\n",
      "Epoch 8/60\n",
      "6/6 [==============================] - 17s 3s/step - det_loss: 1.1626 - cls_loss: 0.7656 - box_loss: 0.0079 - reg_l2_loss: 0.0645 - loss: 1.2271 - learning_rate: 0.0384 - gradient_norm: 1.5950 - val_det_loss: 2.1573 - val_cls_loss: 1.4375 - val_box_loss: 0.0144 - val_reg_l2_loss: 0.0645 - val_loss: 2.2218\n",
      "Epoch 9/60\n",
      "6/6 [==============================] - ETA: 0s - det_loss: 1.0669 - cls_loss: 0.7043 - box_loss: 0.0073 - reg_l2_loss: 0.0645 - loss: 1.1314 - learning_rate: 0.0380 - gradient_norm: 1.6019"
     ]
    },
    {
     "name": "stderr",
     "output_type": "stream",
     "text": [
      "2024-07-01 12:21:39.134043: W tensorflow/core/framework/dataset.cc:768] Input of GeneratorDatasetOp::Dataset will not be optimized because the dataset does not implement the AsGraphDefInternal() method needed to apply optimizations.\n"
     ]
    },
    {
     "name": "stdout",
     "output_type": "stream",
     "text": [
      "6/6 [==============================] - 17s 3s/step - det_loss: 1.0615 - cls_loss: 0.6986 - box_loss: 0.0073 - reg_l2_loss: 0.0645 - loss: 1.1260 - learning_rate: 0.0380 - gradient_norm: 1.6105 - val_det_loss: 2.3145 - val_cls_loss: 1.6080 - val_box_loss: 0.0141 - val_reg_l2_loss: 0.0646 - val_loss: 2.3791\n",
      "Epoch 10/60\n",
      "6/6 [==============================] - 19s 3s/step - det_loss: 1.0221 - cls_loss: 0.6734 - box_loss: 0.0070 - reg_l2_loss: 0.0646 - loss: 1.0867 - learning_rate: 0.0375 - gradient_norm: 1.7362 - val_det_loss: 2.2068 - val_cls_loss: 1.4172 - val_box_loss: 0.0158 - val_reg_l2_loss: 0.0646 - val_loss: 2.2714\n",
      "Epoch 11/60\n",
      "6/6 [==============================] - ETA: 0s - det_loss: 0.9986 - cls_loss: 0.6516 - box_loss: 0.0069 - reg_l2_loss: 0.0646 - loss: 1.0632 - learning_rate: 0.0370 - gradient_norm: 1.5971"
     ]
    },
    {
     "name": "stderr",
     "output_type": "stream",
     "text": [
      "2024-07-01 12:22:14.816850: W tensorflow/core/framework/dataset.cc:768] Input of GeneratorDatasetOp::Dataset will not be optimized because the dataset does not implement the AsGraphDefInternal() method needed to apply optimizations.\n"
     ]
    },
    {
     "name": "stdout",
     "output_type": "stream",
     "text": [
      "6/6 [==============================] - 17s 3s/step - det_loss: 1.0060 - cls_loss: 0.6522 - box_loss: 0.0071 - reg_l2_loss: 0.0646 - loss: 1.0706 - learning_rate: 0.0370 - gradient_norm: 1.5793 - val_det_loss: 2.1771 - val_cls_loss: 1.4468 - val_box_loss: 0.0146 - val_reg_l2_loss: 0.0646 - val_loss: 2.2417\n",
      "Epoch 12/60\n",
      "6/6 [==============================] - 17s 3s/step - det_loss: 0.9758 - cls_loss: 0.6445 - box_loss: 0.0066 - reg_l2_loss: 0.0646 - loss: 1.0404 - learning_rate: 0.0364 - gradient_norm: 1.6636 - val_det_loss: 2.2382 - val_cls_loss: 1.4769 - val_box_loss: 0.0152 - val_reg_l2_loss: 0.0647 - val_loss: 2.3028\n",
      "Epoch 13/60\n",
      "6/6 [==============================] - ETA: 0s - det_loss: 0.9617 - cls_loss: 0.6315 - box_loss: 0.0066 - reg_l2_loss: 0.0647 - loss: 1.0263 - learning_rate: 0.0358 - gradient_norm: 1.6418"
     ]
    },
    {
     "name": "stderr",
     "output_type": "stream",
     "text": [
      "2024-07-01 12:22:48.454346: W tensorflow/core/framework/dataset.cc:768] Input of GeneratorDatasetOp::Dataset will not be optimized because the dataset does not implement the AsGraphDefInternal() method needed to apply optimizations.\n"
     ]
    },
    {
     "name": "stdout",
     "output_type": "stream",
     "text": [
      "6/6 [==============================] - 17s 3s/step - det_loss: 0.9601 - cls_loss: 0.6305 - box_loss: 0.0066 - reg_l2_loss: 0.0647 - loss: 1.0247 - learning_rate: 0.0357 - gradient_norm: 1.6627 - val_det_loss: 2.1044 - val_cls_loss: 1.4735 - val_box_loss: 0.0126 - val_reg_l2_loss: 0.0647 - val_loss: 2.1691\n",
      "Epoch 14/60\n",
      "6/6 [==============================] - 17s 3s/step - det_loss: 0.9335 - cls_loss: 0.6260 - box_loss: 0.0062 - reg_l2_loss: 0.0647 - loss: 0.9982 - learning_rate: 0.0351 - gradient_norm: 1.6400 - val_det_loss: 2.2107 - val_cls_loss: 1.5290 - val_box_loss: 0.0136 - val_reg_l2_loss: 0.0647 - val_loss: 2.2754\n",
      "Epoch 15/60\n",
      "6/6 [==============================] - ETA: 0s - det_loss: 0.8848 - cls_loss: 0.5858 - box_loss: 0.0060 - reg_l2_loss: 0.0647 - loss: 0.9495 - learning_rate: 0.0344 - gradient_norm: 1.5854"
     ]
    },
    {
     "name": "stderr",
     "output_type": "stream",
     "text": [
      "2024-07-01 12:23:22.330249: W tensorflow/core/framework/dataset.cc:768] Input of GeneratorDatasetOp::Dataset will not be optimized because the dataset does not implement the AsGraphDefInternal() method needed to apply optimizations.\n"
     ]
    },
    {
     "name": "stdout",
     "output_type": "stream",
     "text": [
      "6/6 [==============================] - 18s 3s/step - det_loss: 0.8733 - cls_loss: 0.5788 - box_loss: 0.0059 - reg_l2_loss: 0.0647 - loss: 0.9380 - learning_rate: 0.0343 - gradient_norm: 1.5736 - val_det_loss: 1.9452 - val_cls_loss: 1.3226 - val_box_loss: 0.0125 - val_reg_l2_loss: 0.0647 - val_loss: 2.0099\n",
      "Epoch 16/60\n",
      "6/6 [==============================] - 17s 3s/step - det_loss: 0.8803 - cls_loss: 0.5870 - box_loss: 0.0059 - reg_l2_loss: 0.0648 - loss: 0.9450 - learning_rate: 0.0336 - gradient_norm: 1.6879 - val_det_loss: 2.0079 - val_cls_loss: 1.3379 - val_box_loss: 0.0134 - val_reg_l2_loss: 0.0648 - val_loss: 2.0726\n",
      "Epoch 17/60\n",
      "6/6 [==============================] - ETA: 0s - det_loss: 0.8571 - cls_loss: 0.5770 - box_loss: 0.0056 - reg_l2_loss: 0.0648 - loss: 0.9219 - learning_rate: 0.0328 - gradient_norm: 1.8390"
     ]
    },
    {
     "name": "stderr",
     "output_type": "stream",
     "text": [
      "2024-07-01 12:23:57.370578: W tensorflow/core/framework/dataset.cc:768] Input of GeneratorDatasetOp::Dataset will not be optimized because the dataset does not implement the AsGraphDefInternal() method needed to apply optimizations.\n"
     ]
    },
    {
     "name": "stdout",
     "output_type": "stream",
     "text": [
      "6/6 [==============================] - 19s 3s/step - det_loss: 0.8547 - cls_loss: 0.5784 - box_loss: 0.0055 - reg_l2_loss: 0.0648 - loss: 0.9195 - learning_rate: 0.0328 - gradient_norm: 1.8354 - val_det_loss: 1.8030 - val_cls_loss: 1.1166 - val_box_loss: 0.0137 - val_reg_l2_loss: 0.0648 - val_loss: 1.8678\n",
      "Epoch 18/60\n",
      "6/6 [==============================] - 16s 3s/step - det_loss: 0.8564 - cls_loss: 0.5694 - box_loss: 0.0057 - reg_l2_loss: 0.0648 - loss: 0.9212 - learning_rate: 0.0319 - gradient_norm: 1.7795 - val_det_loss: 2.0476 - val_cls_loss: 1.4320 - val_box_loss: 0.0123 - val_reg_l2_loss: 0.0648 - val_loss: 2.1124\n",
      "Epoch 19/60\n",
      "6/6 [==============================] - ETA: 0s - det_loss: 0.8195 - cls_loss: 0.5471 - box_loss: 0.0054 - reg_l2_loss: 0.0648 - loss: 0.8843 - learning_rate: 0.0311 - gradient_norm: 1.7471"
     ]
    },
    {
     "name": "stderr",
     "output_type": "stream",
     "text": [
      "2024-07-01 12:24:31.860692: W tensorflow/core/framework/dataset.cc:768] Input of GeneratorDatasetOp::Dataset will not be optimized because the dataset does not implement the AsGraphDefInternal() method needed to apply optimizations.\n"
     ]
    },
    {
     "name": "stdout",
     "output_type": "stream",
     "text": [
      "6/6 [==============================] - 16s 3s/step - det_loss: 0.8297 - cls_loss: 0.5546 - box_loss: 0.0055 - reg_l2_loss: 0.0648 - loss: 0.8945 - learning_rate: 0.0311 - gradient_norm: 1.7258 - val_det_loss: 1.6902 - val_cls_loss: 1.1125 - val_box_loss: 0.0116 - val_reg_l2_loss: 0.0649 - val_loss: 1.7551\n",
      "Epoch 20/60\n",
      "6/6 [==============================] - 18s 3s/step - det_loss: 0.7957 - cls_loss: 0.5367 - box_loss: 0.0052 - reg_l2_loss: 0.0649 - loss: 0.8606 - learning_rate: 0.0302 - gradient_norm: 1.7999 - val_det_loss: 1.6785 - val_cls_loss: 1.0361 - val_box_loss: 0.0128 - val_reg_l2_loss: 0.0649 - val_loss: 1.7433\n",
      "Epoch 21/60\n",
      "6/6 [==============================] - ETA: 0s - det_loss: 0.8054 - cls_loss: 0.5268 - box_loss: 0.0056 - reg_l2_loss: 0.0649 - loss: 0.8703 - learning_rate: 0.0293 - gradient_norm: 1.9188"
     ]
    },
    {
     "name": "stderr",
     "output_type": "stream",
     "text": [
      "2024-07-01 12:25:06.003502: W tensorflow/core/framework/dataset.cc:768] Input of GeneratorDatasetOp::Dataset will not be optimized because the dataset does not implement the AsGraphDefInternal() method needed to apply optimizations.\n"
     ]
    },
    {
     "name": "stdout",
     "output_type": "stream",
     "text": [
      "6/6 [==============================] - 16s 3s/step - det_loss: 0.8038 - cls_loss: 0.5241 - box_loss: 0.0056 - reg_l2_loss: 0.0649 - loss: 0.8687 - learning_rate: 0.0292 - gradient_norm: 1.9094 - val_det_loss: 1.9055 - val_cls_loss: 1.2574 - val_box_loss: 0.0130 - val_reg_l2_loss: 0.0649 - val_loss: 1.9704\n",
      "Epoch 22/60\n",
      "6/6 [==============================] - 16s 3s/step - det_loss: 0.7888 - cls_loss: 0.5296 - box_loss: 0.0052 - reg_l2_loss: 0.0649 - loss: 0.8537 - learning_rate: 0.0283 - gradient_norm: 1.8081 - val_det_loss: 1.5774 - val_cls_loss: 1.0312 - val_box_loss: 0.0109 - val_reg_l2_loss: 0.0649 - val_loss: 1.6423\n",
      "Epoch 23/60\n",
      "6/6 [==============================] - ETA: 0s - det_loss: 0.7590 - cls_loss: 0.4945 - box_loss: 0.0053 - reg_l2_loss: 0.0649 - loss: 0.8239 - learning_rate: 0.0274 - gradient_norm: 2.1644"
     ]
    },
    {
     "name": "stderr",
     "output_type": "stream",
     "text": [
      "2024-07-01 12:25:38.136864: W tensorflow/core/framework/dataset.cc:768] Input of GeneratorDatasetOp::Dataset will not be optimized because the dataset does not implement the AsGraphDefInternal() method needed to apply optimizations.\n"
     ]
    },
    {
     "name": "stdout",
     "output_type": "stream",
     "text": [
      "6/6 [==============================] - 16s 3s/step - det_loss: 0.7584 - cls_loss: 0.4915 - box_loss: 0.0053 - reg_l2_loss: 0.0649 - loss: 0.8234 - learning_rate: 0.0273 - gradient_norm: 2.2256 - val_det_loss: 1.7558 - val_cls_loss: 1.1310 - val_box_loss: 0.0125 - val_reg_l2_loss: 0.0650 - val_loss: 1.8208\n",
      "Epoch 24/60\n",
      "6/6 [==============================] - 16s 3s/step - det_loss: 0.7406 - cls_loss: 0.4819 - box_loss: 0.0052 - reg_l2_loss: 0.0650 - loss: 0.8055 - learning_rate: 0.0263 - gradient_norm: 1.9868 - val_det_loss: 1.6177 - val_cls_loss: 1.0509 - val_box_loss: 0.0113 - val_reg_l2_loss: 0.0650 - val_loss: 1.6827\n",
      "Epoch 25/60\n",
      "6/6 [==============================] - ETA: 0s - det_loss: 0.7179 - cls_loss: 0.4722 - box_loss: 0.0049 - reg_l2_loss: 0.0650 - loss: 0.7829 - learning_rate: 0.0253 - gradient_norm: 1.7644"
     ]
    },
    {
     "name": "stderr",
     "output_type": "stream",
     "text": [
      "2024-07-01 12:26:10.484108: W tensorflow/core/framework/dataset.cc:768] Input of GeneratorDatasetOp::Dataset will not be optimized because the dataset does not implement the AsGraphDefInternal() method needed to apply optimizations.\n"
     ]
    },
    {
     "name": "stdout",
     "output_type": "stream",
     "text": [
      "6/6 [==============================] - 18s 3s/step - det_loss: 0.7234 - cls_loss: 0.4743 - box_loss: 0.0050 - reg_l2_loss: 0.0650 - loss: 0.7884 - learning_rate: 0.0253 - gradient_norm: 1.7696 - val_det_loss: 1.5962 - val_cls_loss: 1.0064 - val_box_loss: 0.0118 - val_reg_l2_loss: 0.0650 - val_loss: 1.6612\n",
      "Epoch 26/60\n",
      "6/6 [==============================] - 16s 3s/step - det_loss: 0.6979 - cls_loss: 0.4555 - box_loss: 0.0048 - reg_l2_loss: 0.0650 - loss: 0.7629 - learning_rate: 0.0243 - gradient_norm: 1.8158 - val_det_loss: 1.6285 - val_cls_loss: 1.0515 - val_box_loss: 0.0115 - val_reg_l2_loss: 0.0650 - val_loss: 1.6935\n",
      "Epoch 27/60\n",
      "6/6 [==============================] - ETA: 0s - det_loss: 0.6849 - cls_loss: 0.4479 - box_loss: 0.0047 - reg_l2_loss: 0.0650 - loss: 0.7499 - learning_rate: 0.0233 - gradient_norm: 1.8394"
     ]
    },
    {
     "name": "stderr",
     "output_type": "stream",
     "text": [
      "2024-07-01 12:26:44.363410: W tensorflow/core/framework/dataset.cc:768] Input of GeneratorDatasetOp::Dataset will not be optimized because the dataset does not implement the AsGraphDefInternal() method needed to apply optimizations.\n"
     ]
    },
    {
     "name": "stdout",
     "output_type": "stream",
     "text": [
      "6/6 [==============================] - 16s 3s/step - det_loss: 0.6904 - cls_loss: 0.4519 - box_loss: 0.0048 - reg_l2_loss: 0.0650 - loss: 0.7554 - learning_rate: 0.0232 - gradient_norm: 1.8315 - val_det_loss: 1.6004 - val_cls_loss: 1.0493 - val_box_loss: 0.0110 - val_reg_l2_loss: 0.0650 - val_loss: 1.6655\n",
      "Epoch 28/60\n",
      "6/6 [==============================] - 16s 3s/step - det_loss: 0.6662 - cls_loss: 0.4344 - box_loss: 0.0046 - reg_l2_loss: 0.0651 - loss: 0.7313 - learning_rate: 0.0222 - gradient_norm: 1.7742 - val_det_loss: 1.5573 - val_cls_loss: 1.0038 - val_box_loss: 0.0111 - val_reg_l2_loss: 0.0651 - val_loss: 1.6224\n",
      "Epoch 29/60\n",
      "6/6 [==============================] - ETA: 0s - det_loss: 0.6606 - cls_loss: 0.4329 - box_loss: 0.0046 - reg_l2_loss: 0.0651 - loss: 0.7257 - learning_rate: 0.0212 - gradient_norm: 1.8211"
     ]
    },
    {
     "name": "stderr",
     "output_type": "stream",
     "text": [
      "2024-07-01 12:27:16.845316: W tensorflow/core/framework/dataset.cc:768] Input of GeneratorDatasetOp::Dataset will not be optimized because the dataset does not implement the AsGraphDefInternal() method needed to apply optimizations.\n"
     ]
    },
    {
     "name": "stdout",
     "output_type": "stream",
     "text": [
      "6/6 [==============================] - 16s 3s/step - det_loss: 0.6661 - cls_loss: 0.4380 - box_loss: 0.0046 - reg_l2_loss: 0.0651 - loss: 0.7312 - learning_rate: 0.0211 - gradient_norm: 1.8502 - val_det_loss: 1.5002 - val_cls_loss: 0.9589 - val_box_loss: 0.0108 - val_reg_l2_loss: 0.0651 - val_loss: 1.5653\n",
      "Epoch 30/60\n",
      "6/6 [==============================] - 18s 3s/step - det_loss: 0.6399 - cls_loss: 0.4185 - box_loss: 0.0044 - reg_l2_loss: 0.0651 - loss: 0.7050 - learning_rate: 0.0200 - gradient_norm: 1.8597 - val_det_loss: 1.4929 - val_cls_loss: 0.9547 - val_box_loss: 0.0108 - val_reg_l2_loss: 0.0651 - val_loss: 1.5580\n",
      "Epoch 31/60\n",
      "6/6 [==============================] - ETA: 0s - det_loss: 0.6114 - cls_loss: 0.3955 - box_loss: 0.0043 - reg_l2_loss: 0.0651 - loss: 0.6765 - learning_rate: 0.0190 - gradient_norm: 2.0909"
     ]
    },
    {
     "name": "stderr",
     "output_type": "stream",
     "text": [
      "2024-07-01 12:27:50.619120: W tensorflow/core/framework/dataset.cc:768] Input of GeneratorDatasetOp::Dataset will not be optimized because the dataset does not implement the AsGraphDefInternal() method needed to apply optimizations.\n"
     ]
    },
    {
     "name": "stdout",
     "output_type": "stream",
     "text": [
      "6/6 [==============================] - 16s 3s/step - det_loss: 0.6066 - cls_loss: 0.3905 - box_loss: 0.0043 - reg_l2_loss: 0.0651 - loss: 0.6717 - learning_rate: 0.0190 - gradient_norm: 2.0442 - val_det_loss: 1.5211 - val_cls_loss: 0.9933 - val_box_loss: 0.0106 - val_reg_l2_loss: 0.0651 - val_loss: 1.5862\n",
      "Epoch 32/60\n",
      "6/6 [==============================] - 16s 3s/step - det_loss: 0.5937 - cls_loss: 0.3897 - box_loss: 0.0041 - reg_l2_loss: 0.0651 - loss: 0.6588 - learning_rate: 0.0179 - gradient_norm: 1.7478 - val_det_loss: 1.4513 - val_cls_loss: 0.9262 - val_box_loss: 0.0105 - val_reg_l2_loss: 0.0651 - val_loss: 1.5164\n",
      "Epoch 33/60\n",
      "6/6 [==============================] - ETA: 0s - det_loss: 0.5997 - cls_loss: 0.3912 - box_loss: 0.0042 - reg_l2_loss: 0.0651 - loss: 0.6648 - learning_rate: 0.0169 - gradient_norm: 1.6783"
     ]
    },
    {
     "name": "stderr",
     "output_type": "stream",
     "text": [
      "2024-07-01 12:28:22.878660: W tensorflow/core/framework/dataset.cc:768] Input of GeneratorDatasetOp::Dataset will not be optimized because the dataset does not implement the AsGraphDefInternal() method needed to apply optimizations.\n"
     ]
    },
    {
     "name": "stdout",
     "output_type": "stream",
     "text": [
      "6/6 [==============================] - 16s 3s/step - det_loss: 0.5912 - cls_loss: 0.3863 - box_loss: 0.0041 - reg_l2_loss: 0.0651 - loss: 0.6563 - learning_rate: 0.0168 - gradient_norm: 1.6748 - val_det_loss: 1.4576 - val_cls_loss: 0.9400 - val_box_loss: 0.0104 - val_reg_l2_loss: 0.0651 - val_loss: 1.5227\n",
      "Epoch 34/60\n",
      "6/6 [==============================] - 16s 3s/step - det_loss: 0.5908 - cls_loss: 0.3845 - box_loss: 0.0041 - reg_l2_loss: 0.0651 - loss: 0.6559 - learning_rate: 0.0158 - gradient_norm: 1.7329 - val_det_loss: 1.4732 - val_cls_loss: 0.9651 - val_box_loss: 0.0102 - val_reg_l2_loss: 0.0651 - val_loss: 1.5383\n",
      "Epoch 35/60\n",
      "6/6 [==============================] - ETA: 0s - det_loss: 0.5668 - cls_loss: 0.3671 - box_loss: 0.0040 - reg_l2_loss: 0.0651 - loss: 0.6320 - learning_rate: 0.0148 - gradient_norm: 1.7557"
     ]
    },
    {
     "name": "stderr",
     "output_type": "stream",
     "text": [
      "2024-07-01 12:28:54.938313: W tensorflow/core/framework/dataset.cc:768] Input of GeneratorDatasetOp::Dataset will not be optimized because the dataset does not implement the AsGraphDefInternal() method needed to apply optimizations.\n"
     ]
    },
    {
     "name": "stdout",
     "output_type": "stream",
     "text": [
      "6/6 [==============================] - 20s 4s/step - det_loss: 0.5752 - cls_loss: 0.3704 - box_loss: 0.0041 - reg_l2_loss: 0.0651 - loss: 0.6404 - learning_rate: 0.0148 - gradient_norm: 1.7539 - val_det_loss: 1.4848 - val_cls_loss: 0.9792 - val_box_loss: 0.0101 - val_reg_l2_loss: 0.0651 - val_loss: 1.5499\n",
      "Epoch 36/60\n",
      "6/6 [==============================] - 16s 3s/step - det_loss: 0.5975 - cls_loss: 0.3878 - box_loss: 0.0042 - reg_l2_loss: 0.0651 - loss: 0.6626 - learning_rate: 0.0137 - gradient_norm: 1.7996 - val_det_loss: 1.4597 - val_cls_loss: 0.9738 - val_box_loss: 0.0097 - val_reg_l2_loss: 0.0652 - val_loss: 1.5249\n",
      "Epoch 37/60\n",
      "6/6 [==============================] - ETA: 0s - det_loss: 0.5855 - cls_loss: 0.3761 - box_loss: 0.0042 - reg_l2_loss: 0.0652 - loss: 0.6506 - learning_rate: 0.0128 - gradient_norm: 2.1072"
     ]
    },
    {
     "name": "stderr",
     "output_type": "stream",
     "text": [
      "2024-07-01 12:29:31.174638: W tensorflow/core/framework/dataset.cc:768] Input of GeneratorDatasetOp::Dataset will not be optimized because the dataset does not implement the AsGraphDefInternal() method needed to apply optimizations.\n"
     ]
    },
    {
     "name": "stdout",
     "output_type": "stream",
     "text": [
      "6/6 [==============================] - 16s 3s/step - det_loss: 0.5778 - cls_loss: 0.3703 - box_loss: 0.0041 - reg_l2_loss: 0.0652 - loss: 0.6429 - learning_rate: 0.0127 - gradient_norm: 2.0892 - val_det_loss: 1.5268 - val_cls_loss: 1.0142 - val_box_loss: 0.0103 - val_reg_l2_loss: 0.0652 - val_loss: 1.5920\n",
      "Epoch 38/60\n",
      "6/6 [==============================] - 16s 3s/step - det_loss: 0.5708 - cls_loss: 0.3663 - box_loss: 0.0041 - reg_l2_loss: 0.0652 - loss: 0.6360 - learning_rate: 0.0118 - gradient_norm: 1.8568 - val_det_loss: 1.5674 - val_cls_loss: 1.0437 - val_box_loss: 0.0105 - val_reg_l2_loss: 0.0652 - val_loss: 1.6326\n",
      "Epoch 39/60\n",
      "6/6 [==============================] - ETA: 0s - det_loss: 0.5670 - cls_loss: 0.3750 - box_loss: 0.0038 - reg_l2_loss: 0.0652 - loss: 0.6322 - learning_rate: 0.0109 - gradient_norm: 1.8911"
     ]
    },
    {
     "name": "stderr",
     "output_type": "stream",
     "text": [
      "2024-07-01 12:30:03.743482: W tensorflow/core/framework/dataset.cc:768] Input of GeneratorDatasetOp::Dataset will not be optimized because the dataset does not implement the AsGraphDefInternal() method needed to apply optimizations.\n"
     ]
    },
    {
     "name": "stdout",
     "output_type": "stream",
     "text": [
      "6/6 [==============================] - 16s 3s/step - det_loss: 0.5656 - cls_loss: 0.3724 - box_loss: 0.0039 - reg_l2_loss: 0.0652 - loss: 0.6308 - learning_rate: 0.0108 - gradient_norm: 1.8515 - val_det_loss: 1.5689 - val_cls_loss: 1.0408 - val_box_loss: 0.0106 - val_reg_l2_loss: 0.0652 - val_loss: 1.6341\n",
      "Epoch 40/60\n",
      "6/6 [==============================] - 18s 3s/step - det_loss: 0.5574 - cls_loss: 0.3616 - box_loss: 0.0039 - reg_l2_loss: 0.0652 - loss: 0.6226 - learning_rate: 0.0099 - gradient_norm: 1.8027 - val_det_loss: 1.5707 - val_cls_loss: 1.0260 - val_box_loss: 0.0109 - val_reg_l2_loss: 0.0652 - val_loss: 1.6359\n",
      "Epoch 41/60\n",
      "6/6 [==============================] - ETA: 0s - det_loss: 0.5756 - cls_loss: 0.3731 - box_loss: 0.0041 - reg_l2_loss: 0.0652 - loss: 0.6408 - learning_rate: 0.0090 - gradient_norm: 1.8333"
     ]
    },
    {
     "name": "stderr",
     "output_type": "stream",
     "text": [
      "2024-07-01 12:30:38.003033: W tensorflow/core/framework/dataset.cc:768] Input of GeneratorDatasetOp::Dataset will not be optimized because the dataset does not implement the AsGraphDefInternal() method needed to apply optimizations.\n"
     ]
    },
    {
     "name": "stdout",
     "output_type": "stream",
     "text": [
      "6/6 [==============================] - 16s 3s/step - det_loss: 0.5876 - cls_loss: 0.3811 - box_loss: 0.0041 - reg_l2_loss: 0.0652 - loss: 0.6528 - learning_rate: 0.0090 - gradient_norm: 1.8853 - val_det_loss: 1.5618 - val_cls_loss: 1.0383 - val_box_loss: 0.0105 - val_reg_l2_loss: 0.0652 - val_loss: 1.6269\n",
      "Epoch 42/60\n",
      "6/6 [==============================] - 16s 3s/step - det_loss: 0.5432 - cls_loss: 0.3502 - box_loss: 0.0039 - reg_l2_loss: 0.0652 - loss: 0.6084 - learning_rate: 0.0081 - gradient_norm: 1.5980 - val_det_loss: 1.5539 - val_cls_loss: 1.0214 - val_box_loss: 0.0107 - val_reg_l2_loss: 0.0652 - val_loss: 1.6191\n",
      "Epoch 43/60\n",
      "6/6 [==============================] - ETA: 0s - det_loss: 0.5606 - cls_loss: 0.3733 - box_loss: 0.0037 - reg_l2_loss: 0.0652 - loss: 0.6258 - learning_rate: 0.0073 - gradient_norm: 1.6873"
     ]
    },
    {
     "name": "stderr",
     "output_type": "stream",
     "text": [
      "2024-07-01 12:31:10.560497: W tensorflow/core/framework/dataset.cc:768] Input of GeneratorDatasetOp::Dataset will not be optimized because the dataset does not implement the AsGraphDefInternal() method needed to apply optimizations.\n"
     ]
    },
    {
     "name": "stdout",
     "output_type": "stream",
     "text": [
      "6/6 [==============================] - 16s 3s/step - det_loss: 0.5567 - cls_loss: 0.3705 - box_loss: 0.0037 - reg_l2_loss: 0.0652 - loss: 0.6219 - learning_rate: 0.0073 - gradient_norm: 1.6224 - val_det_loss: 1.5545 - val_cls_loss: 1.0227 - val_box_loss: 0.0106 - val_reg_l2_loss: 0.0652 - val_loss: 1.6197\n",
      "Epoch 44/60\n",
      "6/6 [==============================] - 16s 3s/step - det_loss: 0.5311 - cls_loss: 0.3539 - box_loss: 0.0035 - reg_l2_loss: 0.0652 - loss: 0.5962 - learning_rate: 0.0065 - gradient_norm: 1.5840 - val_det_loss: 1.5237 - val_cls_loss: 1.0111 - val_box_loss: 0.0103 - val_reg_l2_loss: 0.0652 - val_loss: 1.5889\n",
      "Epoch 45/60\n",
      "6/6 [==============================] - ETA: 0s - det_loss: 0.5162 - cls_loss: 0.3333 - box_loss: 0.0037 - reg_l2_loss: 0.0652 - loss: 0.5814 - learning_rate: 0.0057 - gradient_norm: 1.7042"
     ]
    },
    {
     "name": "stderr",
     "output_type": "stream",
     "text": [
      "2024-07-01 12:31:42.797778: W tensorflow/core/framework/dataset.cc:768] Input of GeneratorDatasetOp::Dataset will not be optimized because the dataset does not implement the AsGraphDefInternal() method needed to apply optimizations.\n"
     ]
    },
    {
     "name": "stdout",
     "output_type": "stream",
     "text": [
      "6/6 [==============================] - 18s 3s/step - det_loss: 0.5207 - cls_loss: 0.3342 - box_loss: 0.0037 - reg_l2_loss: 0.0652 - loss: 0.5859 - learning_rate: 0.0057 - gradient_norm: 1.6990 - val_det_loss: 1.5220 - val_cls_loss: 1.0133 - val_box_loss: 0.0102 - val_reg_l2_loss: 0.0652 - val_loss: 1.5872\n",
      "Epoch 46/60\n",
      "6/6 [==============================] - 16s 3s/step - det_loss: 0.5332 - cls_loss: 0.3538 - box_loss: 0.0036 - reg_l2_loss: 0.0652 - loss: 0.5984 - learning_rate: 0.0050 - gradient_norm: 1.8089 - val_det_loss: 1.5122 - val_cls_loss: 1.0108 - val_box_loss: 0.0100 - val_reg_l2_loss: 0.0652 - val_loss: 1.5773\n",
      "Epoch 47/60\n",
      "6/6 [==============================] - ETA: 0s - det_loss: 0.5042 - cls_loss: 0.3281 - box_loss: 0.0035 - reg_l2_loss: 0.0652 - loss: 0.5694 - learning_rate: 0.0043 - gradient_norm: 1.6172"
     ]
    },
    {
     "name": "stderr",
     "output_type": "stream",
     "text": [
      "2024-07-01 12:32:17.202288: W tensorflow/core/framework/dataset.cc:768] Input of GeneratorDatasetOp::Dataset will not be optimized because the dataset does not implement the AsGraphDefInternal() method needed to apply optimizations.\n"
     ]
    },
    {
     "name": "stdout",
     "output_type": "stream",
     "text": [
      "6/6 [==============================] - 16s 3s/step - det_loss: 0.5045 - cls_loss: 0.3281 - box_loss: 0.0035 - reg_l2_loss: 0.0652 - loss: 0.5697 - learning_rate: 0.0043 - gradient_norm: 1.6062 - val_det_loss: 1.4919 - val_cls_loss: 1.0040 - val_box_loss: 0.0098 - val_reg_l2_loss: 0.0652 - val_loss: 1.5571\n",
      "Epoch 48/60\n",
      "6/6 [==============================] - 16s 3s/step - det_loss: 0.5327 - cls_loss: 0.3560 - box_loss: 0.0035 - reg_l2_loss: 0.0652 - loss: 0.5979 - learning_rate: 0.0037 - gradient_norm: 1.7413 - val_det_loss: 1.4747 - val_cls_loss: 0.9897 - val_box_loss: 0.0097 - val_reg_l2_loss: 0.0652 - val_loss: 1.5399\n",
      "Epoch 49/60\n",
      "6/6 [==============================] - ETA: 0s - det_loss: 0.5019 - cls_loss: 0.3269 - box_loss: 0.0035 - reg_l2_loss: 0.0652 - loss: 0.5671 - learning_rate: 0.0031 - gradient_norm: 1.5536"
     ]
    },
    {
     "name": "stderr",
     "output_type": "stream",
     "text": [
      "2024-07-01 12:32:49.499180: W tensorflow/core/framework/dataset.cc:768] Input of GeneratorDatasetOp::Dataset will not be optimized because the dataset does not implement the AsGraphDefInternal() method needed to apply optimizations.\n"
     ]
    },
    {
     "name": "stdout",
     "output_type": "stream",
     "text": [
      "6/6 [==============================] - 16s 3s/step - det_loss: 0.4983 - cls_loss: 0.3251 - box_loss: 0.0035 - reg_l2_loss: 0.0652 - loss: 0.5634 - learning_rate: 0.0031 - gradient_norm: 1.5549 - val_det_loss: 1.4669 - val_cls_loss: 0.9815 - val_box_loss: 0.0097 - val_reg_l2_loss: 0.0652 - val_loss: 1.5320\n",
      "Epoch 50/60\n",
      "6/6 [==============================] - 18s 3s/step - det_loss: 0.5180 - cls_loss: 0.3455 - box_loss: 0.0035 - reg_l2_loss: 0.0652 - loss: 0.5832 - learning_rate: 0.0025 - gradient_norm: 1.7074 - val_det_loss: 1.4732 - val_cls_loss: 0.9892 - val_box_loss: 0.0097 - val_reg_l2_loss: 0.0652 - val_loss: 1.5384\n",
      "Epoch 51/60\n",
      "6/6 [==============================] - ETA: 0s - det_loss: 0.5030 - cls_loss: 0.3308 - box_loss: 0.0034 - reg_l2_loss: 0.0652 - loss: 0.5682 - learning_rate: 0.0021 - gradient_norm: 1.5998"
     ]
    },
    {
     "name": "stderr",
     "output_type": "stream",
     "text": [
      "2024-07-01 12:33:23.951009: W tensorflow/core/framework/dataset.cc:768] Input of GeneratorDatasetOp::Dataset will not be optimized because the dataset does not implement the AsGraphDefInternal() method needed to apply optimizations.\n"
     ]
    },
    {
     "name": "stdout",
     "output_type": "stream",
     "text": [
      "6/6 [==============================] - 16s 3s/step - det_loss: 0.5029 - cls_loss: 0.3292 - box_loss: 0.0035 - reg_l2_loss: 0.0652 - loss: 0.5681 - learning_rate: 0.0020 - gradient_norm: 1.6328 - val_det_loss: 1.4730 - val_cls_loss: 0.9924 - val_box_loss: 0.0096 - val_reg_l2_loss: 0.0652 - val_loss: 1.5382\n",
      "Epoch 52/60\n",
      "6/6 [==============================] - 16s 3s/step - det_loss: 0.5007 - cls_loss: 0.3239 - box_loss: 0.0035 - reg_l2_loss: 0.0652 - loss: 0.5659 - learning_rate: 0.0016 - gradient_norm: 1.4856 - val_det_loss: 1.4686 - val_cls_loss: 0.9900 - val_box_loss: 0.0096 - val_reg_l2_loss: 0.0652 - val_loss: 1.5338\n",
      "Epoch 53/60\n",
      "6/6 [==============================] - ETA: 0s - det_loss: 0.5155 - cls_loss: 0.3387 - box_loss: 0.0035 - reg_l2_loss: 0.0652 - loss: 0.5807 - learning_rate: 0.0012 - gradient_norm: 1.7340"
     ]
    },
    {
     "name": "stderr",
     "output_type": "stream",
     "text": [
      "2024-07-01 12:33:56.308976: W tensorflow/core/framework/dataset.cc:768] Input of GeneratorDatasetOp::Dataset will not be optimized because the dataset does not implement the AsGraphDefInternal() method needed to apply optimizations.\n"
     ]
    },
    {
     "name": "stdout",
     "output_type": "stream",
     "text": [
      "6/6 [==============================] - 18s 3s/step - det_loss: 0.5214 - cls_loss: 0.3404 - box_loss: 0.0036 - reg_l2_loss: 0.0652 - loss: 0.5866 - learning_rate: 0.0012 - gradient_norm: 1.7177 - val_det_loss: 1.4728 - val_cls_loss: 0.9931 - val_box_loss: 0.0096 - val_reg_l2_loss: 0.0652 - val_loss: 1.5380\n",
      "Epoch 54/60\n",
      "6/6 [==============================] - 16s 3s/step - det_loss: 0.5239 - cls_loss: 0.3415 - box_loss: 0.0036 - reg_l2_loss: 0.0652 - loss: 0.5891 - learning_rate: 8.6135e-04 - gradient_norm: 1.8288 - val_det_loss: 1.4755 - val_cls_loss: 0.9958 - val_box_loss: 0.0096 - val_reg_l2_loss: 0.0652 - val_loss: 1.5407\n",
      "Epoch 55/60\n",
      "6/6 [==============================] - ETA: 0s - det_loss: 0.4929 - cls_loss: 0.3211 - box_loss: 0.0034 - reg_l2_loss: 0.0652 - loss: 0.5581 - learning_rate: 5.9488e-04 - gradient_norm: 1.5233"
     ]
    },
    {
     "name": "stderr",
     "output_type": "stream",
     "text": [
      "2024-07-01 12:34:30.830739: W tensorflow/core/framework/dataset.cc:768] Input of GeneratorDatasetOp::Dataset will not be optimized because the dataset does not implement the AsGraphDefInternal() method needed to apply optimizations.\n"
     ]
    },
    {
     "name": "stdout",
     "output_type": "stream",
     "text": [
      "6/6 [==============================] - 18s 3s/step - det_loss: 0.5092 - cls_loss: 0.3318 - box_loss: 0.0035 - reg_l2_loss: 0.0652 - loss: 0.5744 - learning_rate: 5.7993e-04 - gradient_norm: 1.5401 - val_det_loss: 1.4774 - val_cls_loss: 0.9998 - val_box_loss: 0.0096 - val_reg_l2_loss: 0.0652 - val_loss: 1.5425\n",
      "Epoch 56/60\n",
      "6/6 [==============================] - 16s 3s/step - det_loss: 0.5209 - cls_loss: 0.3454 - box_loss: 0.0035 - reg_l2_loss: 0.0652 - loss: 0.5861 - learning_rate: 3.5356e-04 - gradient_norm: 1.5548 - val_det_loss: 1.4791 - val_cls_loss: 1.0031 - val_box_loss: 0.0095 - val_reg_l2_loss: 0.0652 - val_loss: 1.5442\n",
      "Epoch 57/60\n",
      "6/6 [==============================] - ETA: 0s - det_loss: 0.4927 - cls_loss: 0.3245 - box_loss: 0.0034 - reg_l2_loss: 0.0652 - loss: 0.5579 - learning_rate: 1.9119e-04 - gradient_norm: 1.5845"
     ]
    },
    {
     "name": "stderr",
     "output_type": "stream",
     "text": [
      "2024-07-01 12:35:05.243985: W tensorflow/core/framework/dataset.cc:768] Input of GeneratorDatasetOp::Dataset will not be optimized because the dataset does not implement the AsGraphDefInternal() method needed to apply optimizations.\n"
     ]
    },
    {
     "name": "stdout",
     "output_type": "stream",
     "text": [
      "6/6 [==============================] - 16s 3s/step - det_loss: 0.4943 - cls_loss: 0.3219 - box_loss: 0.0034 - reg_l2_loss: 0.0652 - loss: 0.5595 - learning_rate: 1.8287e-04 - gradient_norm: 1.6258 - val_det_loss: 1.4775 - val_cls_loss: 1.0030 - val_box_loss: 0.0095 - val_reg_l2_loss: 0.0652 - val_loss: 1.5426\n",
      "Epoch 58/60\n",
      "6/6 [==============================] - 17s 3s/step - det_loss: 0.4981 - cls_loss: 0.3325 - box_loss: 0.0033 - reg_l2_loss: 0.0652 - loss: 0.5633 - learning_rate: 6.8361e-05 - gradient_norm: 1.5424 - val_det_loss: 1.4786 - val_cls_loss: 1.0051 - val_box_loss: 0.0095 - val_reg_l2_loss: 0.0652 - val_loss: 1.5438\n",
      "Epoch 59/60\n",
      "6/6 [==============================] - ETA: 0s - det_loss: 0.5138 - cls_loss: 0.3398 - box_loss: 0.0035 - reg_l2_loss: 0.0652 - loss: 0.5790 - learning_rate: 1.1943e-05 - gradient_norm: 1.6781"
     ]
    },
    {
     "name": "stderr",
     "output_type": "stream",
     "text": [
      "2024-07-01 12:35:38.654476: W tensorflow/core/framework/dataset.cc:768] Input of GeneratorDatasetOp::Dataset will not be optimized because the dataset does not implement the AsGraphDefInternal() method needed to apply optimizations.\n"
     ]
    },
    {
     "name": "stdout",
     "output_type": "stream",
     "text": [
      "6/6 [==============================] - 16s 3s/step - det_loss: 0.5060 - cls_loss: 0.3355 - box_loss: 0.0034 - reg_l2_loss: 0.0652 - loss: 0.5712 - learning_rate: 1.0349e-05 - gradient_norm: 1.6712 - val_det_loss: 1.4796 - val_cls_loss: 1.0070 - val_box_loss: 0.0095 - val_reg_l2_loss: 0.0652 - val_loss: 1.5448\n",
      "Epoch 60/60\n",
      "6/6 [==============================] - 18s 3s/step - det_loss: 0.4853 - cls_loss: 0.3224 - box_loss: 0.0033 - reg_l2_loss: 0.0652 - loss: 0.5505 - learning_rate: 9.0000e-06 - gradient_norm: 1.7430 - val_det_loss: 1.4786 - val_cls_loss: 1.0074 - val_box_loss: 0.0094 - val_reg_l2_loss: 0.0652 - val_loss: 1.5438\n"
     ]
    }
   ],
   "source": [
    "model = object_detector.create(train_data, model_spec=spec, batch_size=32, train_whole_model=True,epochs=60, validation_data = validation_data)"
   ]
  },
  {
   "cell_type": "code",
   "execution_count": 12,
   "metadata": {},
   "outputs": [
    {
     "name": "stderr",
     "output_type": "stream",
     "text": [
      "2024-07-01 12:36:10.249252: W tensorflow/python/util/util.cc:368] Sets are not currently considered sequences, but this may change in the future, so consider avoiding using them.\n",
      "2024-07-01 12:36:27.768459: W tensorflow/core/common_runtime/graph_constructor.cc:803] Node 'resample_p7/PartitionedCall' has 1 outputs but the _output_shapes attribute specifies shapes for 3 outputs. Output shapes may be inaccurate.\n"
     ]
    },
    {
     "name": "stdout",
     "output_type": "stream",
     "text": [
      "Estimated count of arithmetic ops: 1.782 G  ops, equivalently 0.891 G  MACs\n"
     ]
    },
    {
     "name": "stderr",
     "output_type": "stream",
     "text": [
      "2024-07-01 12:36:33.491309: W tensorflow/compiler/mlir/lite/python/tf_tfl_flatbuffer_helpers.cc:357] Ignored output_format.\n",
      "2024-07-01 12:36:33.491347: W tensorflow/compiler/mlir/lite/python/tf_tfl_flatbuffer_helpers.cc:360] Ignored drop_control_dependency.\n",
      "2024-07-01 12:36:33.492028: I tensorflow/cc/saved_model/reader.cc:43] Reading SavedModel from: /var/tmp/tmp58l6kkre\n",
      "2024-07-01 12:36:33.576194: I tensorflow/cc/saved_model/reader.cc:78] Reading meta graph with tags { serve }\n",
      "2024-07-01 12:36:33.576233: I tensorflow/cc/saved_model/reader.cc:119] Reading SavedModel debug info (if present) from: /var/tmp/tmp58l6kkre\n",
      "2024-07-01 12:36:33.810539: I tensorflow/cc/saved_model/loader.cc:228] Restoring SavedModel bundle.\n",
      "2024-07-01 12:36:35.025933: I tensorflow/cc/saved_model/loader.cc:212] Running initialization op on SavedModel bundle at path: /var/tmp/tmp58l6kkre\n",
      "2024-07-01 12:36:35.563024: I tensorflow/cc/saved_model/loader.cc:301] SavedModel load for tags { serve }; Status: success: OK. Took 2070997 microseconds.\n",
      "2024-07-01 12:36:36.569581: I tensorflow/compiler/mlir/tensorflow/utils/dump_mlir_util.cc:237] disabling MLIR crash reproducer, set env var `MLIR_CRASH_REPRODUCER_DIRECTORY` to enable.\n",
      "2024-07-01 12:36:37.654125: I tensorflow/compiler/mlir/lite/flatbuffer_export.cc:1963] Estimated count of arithmetic ops: 1.782 G  ops, equivalently 0.891 G  MACs\n",
      "\n",
      "fully_quantize: 0, inference_type: 6, input_inference_type: 3, output_inference_type: 0\n",
      "2024-07-01 12:37:14.162288: I tensorflow/compiler/mlir/lite/flatbuffer_export.cc:1963] Estimated count of arithmetic ops: 1.782 G  ops, equivalently 0.891 G  MACs\n",
      "\n"
     ]
    },
    {
     "name": "stdout",
     "output_type": "stream",
     "text": [
      "Estimated count of arithmetic ops: 1.782 G  ops, equivalently 0.891 G  MACs\n"
     ]
    }
   ],
   "source": [
    "model.export(export_dir='/home/haikalasa/ex', tflite_filename='model24.tflite') "
   ]
  }
 ],
 "metadata": {
  "kernelspec": {
   "display_name": "base",
   "language": "python",
   "name": "python3"
  },
  "language_info": {
   "codemirror_mode": {
    "name": "ipython",
    "version": 3
   },
   "file_extension": ".py",
   "mimetype": "text/x-python",
   "name": "python",
   "nbconvert_exporter": "python",
   "pygments_lexer": "ipython3",
   "version": "3.7.-1"
  }
 },
 "nbformat": 4,
 "nbformat_minor": 2
}
