
{
 "cells": [
  {
   "cell_type": "code",
   "execution_count": null,
   "metadata": {},
   "outputs": [],
   "source": [
    "import numpy as np\n",
    "import os\n",
    "\n",
    "from tflite_model_maker.config import QuantizationConfig\n",
    "from tflite_model_maker.config import ExportFormat\n",
    "from tflite_model_maker import model_spec\n",
    "from tflite_model_maker import object_detector\n",
    "\n",
    "import tensorflow as tf\n",
    "from tensorflow import keras\n",
    "assert tf.__version__.startswith('2')\n",
    "\n",
    "tf.get_logger().setLevel('ERROR')\n",
    "from absl import logging\n",
    "logging.set_verbosity(logging.ERROR)\n"
   ]
  },
  {
   "cell_type": "code",
   "execution_count": null,
   "metadata": {},
   "outputs": [],
   "source": [
    "spec = model_spec.get('efficientdet_lite0')\n",
    "spec.config.max_output_size = 2\n",
    "label_map = {1 : 'botol_plastik', 2:'daun', 3: 'kantong_plastik', 4:'sedotan',5:'batang_kayu',6:'kaleng',7:'rumput',8:'plastik_makanan',9:'styrofoam',10:'w'}"
   ]
  },
  {
   "cell_type": "code",
   "execution_count": null,
   "metadata": {},
   "outputs": [],
   "source": [
    "train_data = object_detector.DataLoader.from_pascal_voc('/home/haikalasa/ex/train', \n",
    "                                                        '/home/haikalasa/ex/train',\n",
    "                                                        label_map=label_map)\n",
    "validation_data = object_detector.DataLoader.from_pascal_voc('/home/haikalasa/ex/validate',\n",
    "                                                             '/home/haikalasa/ex/validate',\n",
    "                                                             label_map=label_map)\n",
    "test_data = object_detector.DataLoader.from_pascal_voc('/home/haikalasa/ex/validate',\n",
    "                                                             '/home/haikalasa/ex/validate',\n",
    "                                                             label_map=label_map)\n",
    "                                                             "
   ]
  },
  {
   "cell_type": "code",
   "execution_count": null,
   "metadata": {},
