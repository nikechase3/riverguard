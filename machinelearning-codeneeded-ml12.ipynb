{
 "cells": [
  {
   "cell_type": "code",
   "execution_count": 1,
   "metadata": {},
   
   "source": [
    "import numpy as np\n",
    "import os\n",
    "\n",
    "from tflite_model_maker.config import QuantizationConfig\n",
    "from tflite_model_maker.config import ExportFormat\n",
    "from tflite_model_maker import model_spec\n",
    "from tflite_model_maker import object_detector\n",
    "\n",
    "import tensorflow as tf\n",
    "from tensorflow import keras\n",
    "assert tf.__version__.startswith('2')\n",
    "\n",
    "tf.get_logger().setLevel('ERROR')\n",
    "from absl import logging\n",
    "logging.set_verbosity(logging.ERROR)\n"
   ]
  },
  {
   "cell_type": "code",
   "execution_count": 2,
   "metadata": {},

   "source": [
    "spec = model_spec.get('efficientdet_lite0')\n",
    "spec.config.max_output_size = 2\n",
    "label_map = {1 : 'botol_plastik', 2:'daun', 3: 'kantong_plastik', 4:'sedotan',5:'batang_kayu',6:'kaleng',7:'rumput',8:'plastik_makanan',9:'styrofoam',10:'w'}"
   ]
  },
  {
   "cell_type": "code",
   "execution_count": 16,
   "metadata": {},
   "outputs": [],
   "source": [
    "train_data = object_detector.DataLoader.from_pascal_voc('', \n",
    "                                                        '/dir',\n",
    "                                                        label_map=label_map)\n",
    "validation_data = object_detector.DataLoader.from_pascal_voc('dir',\n",
    "                                                             'dir',\n",
    "                                                             label_map=label_map)\n",
    "test_data = object_detector.DataLoader.from_pascal_voc('dir',\n",
    "                                                             'dir',\n",
    "                                                             label_map=label_map)\n",
    "                                                             "
   ]
  },
  {
   "cell_type": "code",
   "execution_count": 4,
   "metadata": {},
   
   "source": [
    "!sudo apt -y install libportaudio2\n"
   ]
  },
  {
   "cell_type": "code",
   "execution_count": 11,
   "metadata": {},

   "source": [
    "model = object_detector.create(train_data, model_spec=spec, batch_size=32, train_whole_model=True,epochs=60, validation_data = validation_data)"
   ]
  },
  {
   "cell_type": "code",
   "execution_count": 12,
   "metadata": {},

   "source": [
    "model.export(export_dir='export dir', tflite_filename='modelname') "
   ]
  }
 ],
 "metadata": {
  "kernelspec": {
   "display_name": "base",
   "language": "python",
   "name": "python3"
  },
  "language_info": {
   "codemirror_mode": {
    "name": "ipython",
    "version": 3
   },
   "file_extension": ".py",
   "mimetype": "text/x-python",
   "name": "python",
   "nbconvert_exporter": "python",
   "pygments_lexer": "ipython3",
   "version": "3.7.-1"
  }
 },
 "nbformat": 4,
 "nbformat_minor": 2
}
